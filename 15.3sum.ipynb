{
 "cells": [
  {
   "cell_type": "markdown",
   "id": "98448ae6",
   "metadata": {},
   "source": [
    "## 15. 3Sum\n",
    "Given an integer array nums, return all the triplets [nums[i], nums[j], nums[k]] such that i != j, i != k, and j != k, and nums[i] + nums[j] + nums[k] == 0.\n",
    "\n",
    "Notice that the solution set must not contain duplicate triplets.\n",
    "\n",
    "[Leetcode Description](https://leetcode.com/problems/3sum/description/)"
   ]
  },
  {
   "cell_type": "code",
   "execution_count": 1,
   "id": "8ab807a2",
   "metadata": {},
   "outputs": [],
   "source": [
    "from typing import List\n",
    "def threeSum(nums: List[int]) -> List[List[int]]:\n",
    "    nums.sort()\n",
    "    n = len(nums)\n",
    "    results = []\n",
    "    for i in range(n-2):\n",
    "        if i > 0 and nums[i] == nums[i - 1]:\n",
    "            continue\n",
    "        left, right = i + 1, n - 1\n",
    "        while left < right:\n",
    "            total = nums[i] + nums[left] + nums[right]\n",
    "            if total == 0:\n",
    "                results.append([nums[i], nums[left], nums[right]])\n",
    "\n",
    "                while left < right and nums[left] == nums[left + 1]:\n",
    "                    left += 1\n",
    "                while left < right and nums[right] == nums[right -1]:\n",
    "                    right -= 1\n",
    "                left += 1\n",
    "                right -= 1\n",
    "            elif total < 0:\n",
    "                left += 1\n",
    "            elif total > 0:\n",
    "                right -= 1\n",
    "    return results"
   ]
  },
  {
   "cell_type": "code",
   "execution_count": 2,
   "id": "6fd2414f",
   "metadata": {},
   "outputs": [
    {
     "name": "stdout",
     "output_type": "stream",
     "text": [
      "Input: [-1, 0, 1, 2, -1, -4]\n",
      "[[-1, -1, 2], [-1, 0, 1]]\n"
     ]
    }
   ],
   "source": [
    "print(\"Input: [-1, 0, 1, 2, -1, -4]\")\n",
    "print(threeSum([-1, 0, 1, 2, -1, -4]))\n"
   ]
  },
  {
   "cell_type": "code",
   "execution_count": 3,
   "id": "b520ec05",
   "metadata": {},
   "outputs": [
    {
     "name": "stdout",
     "output_type": "stream",
     "text": [
      "Input: [0,1,1]\n",
      "[]\n"
     ]
    }
   ],
   "source": [
    "print(\"Input: [0,1,1]\")\n",
    "print(threeSum([0,1,1]))"
   ]
  },
  {
   "cell_type": "code",
   "execution_count": 4,
   "id": "5038b33f",
   "metadata": {},
   "outputs": [
    {
     "name": "stdout",
     "output_type": "stream",
     "text": [
      "Input: [0,0,0]\n",
      "[[0, 0, 0]]\n"
     ]
    }
   ],
   "source": [
    "print(\"Input: [0,0,0]\")\n",
    "print(threeSum([0,0,0]))"
   ]
  }
 ],
 "metadata": {
  "kernelspec": {
   "display_name": ".venv",
   "language": "python",
   "name": "python3"
  },
  "language_info": {
   "codemirror_mode": {
    "name": "ipython",
    "version": 3
   },
   "file_extension": ".py",
   "mimetype": "text/x-python",
   "name": "python",
   "nbconvert_exporter": "python",
   "pygments_lexer": "ipython3",
   "version": "3.12.7"
  }
 },
 "nbformat": 4,
 "nbformat_minor": 5
}
